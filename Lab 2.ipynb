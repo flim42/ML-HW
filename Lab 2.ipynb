{
  "cells": [
    {
      "cell_type": "markdown",
      "metadata": {
        "id": "V_88CAkJM5ZA"
      },
      "source": [
        "# Лабораторная работа №2: NLP. Классификация текстов\n",
        "\n",
        "Макарьев Максим ИДБ-22-11\n",
        "\n",
        "Используется датасет Twitter Tweets Sentiment Dataset(https://www.kaggle.com/datasets/yasserh/twitter-tweets-sentiment-dataset) "
      ]
    },
    {
      "cell_type": "markdown",
      "metadata": {
        "id": "_miefsMFIqmL"
      },
      "source": [
        "## 1. **Загрузка и исследование данных**\n"
      ]
    },
    {
      "cell_type": "markdown",
      "metadata": {
        "id": "oGc2gTriJGZa"
      },
      "source": [
        "### Импорт необходимых библиотек"
      ]
    },
    {
      "cell_type": "code",
      "execution_count": 25,
      "metadata": {
        "colab": {
          "base_uri": "https://localhost:8080/"
        },
        "id": "o-e4cr9-2IEP",
        "outputId": "2cc97dcf-7dc7-411c-a1ee-e21c1fecff62"
      },
      "outputs": [
        {
          "name": "stdout",
          "output_type": "stream",
          "text": [
            "Requirement already satisfied: nltk in c:\\users\\makio\\desktop\\code\\.venv\\lib\\site-packages (3.9.1)\n",
            "Requirement already satisfied: scikit-learn in c:\\users\\makio\\desktop\\code\\.venv\\lib\\site-packages (1.6.1)\n",
            "Requirement already satisfied: pandas in c:\\users\\makio\\desktop\\code\\.venv\\lib\\site-packages (2.2.3)\n",
            "Collecting matplotlib\n",
            "  Using cached matplotlib-3.10.0-cp313-cp313-win_amd64.whl.metadata (11 kB)\n",
            "Collecting seaborn\n",
            "  Using cached seaborn-0.13.2-py3-none-any.whl.metadata (5.4 kB)\n",
            "Requirement already satisfied: click in c:\\users\\makio\\desktop\\code\\.venv\\lib\\site-packages (from nltk) (8.1.8)\n",
            "Requirement already satisfied: joblib in c:\\users\\makio\\desktop\\code\\.venv\\lib\\site-packages (from nltk) (1.4.2)\n",
            "Requirement already satisfied: regex>=2021.8.3 in c:\\users\\makio\\desktop\\code\\.venv\\lib\\site-packages (from nltk) (2024.11.6)\n",
            "Requirement already satisfied: tqdm in c:\\users\\makio\\desktop\\code\\.venv\\lib\\site-packages (from nltk) (4.67.1)\n",
            "Requirement already satisfied: numpy>=1.19.5 in c:\\users\\makio\\desktop\\code\\.venv\\lib\\site-packages (from scikit-learn) (2.2.3)\n",
            "Requirement already satisfied: scipy>=1.6.0 in c:\\users\\makio\\desktop\\code\\.venv\\lib\\site-packages (from scikit-learn) (1.15.2)\n",
            "Requirement already satisfied: threadpoolctl>=3.1.0 in c:\\users\\makio\\desktop\\code\\.venv\\lib\\site-packages (from scikit-learn) (3.5.0)\n",
            "Requirement already satisfied: python-dateutil>=2.8.2 in c:\\users\\makio\\desktop\\code\\.venv\\lib\\site-packages (from pandas) (2.9.0.post0)\n",
            "Requirement already satisfied: pytz>=2020.1 in c:\\users\\makio\\desktop\\code\\.venv\\lib\\site-packages (from pandas) (2025.1)\n",
            "Requirement already satisfied: tzdata>=2022.7 in c:\\users\\makio\\desktop\\code\\.venv\\lib\\site-packages (from pandas) (2025.1)\n",
            "Collecting contourpy>=1.0.1 (from matplotlib)\n",
            "  Using cached contourpy-1.3.1-cp313-cp313-win_amd64.whl.metadata (5.4 kB)\n",
            "Collecting cycler>=0.10 (from matplotlib)\n",
            "  Using cached cycler-0.12.1-py3-none-any.whl.metadata (3.8 kB)\n",
            "Collecting fonttools>=4.22.0 (from matplotlib)\n",
            "  Using cached fonttools-4.56.0-cp313-cp313-win_amd64.whl.metadata (103 kB)\n",
            "Collecting kiwisolver>=1.3.1 (from matplotlib)\n",
            "  Using cached kiwisolver-1.4.8-cp313-cp313-win_amd64.whl.metadata (6.3 kB)\n",
            "Requirement already satisfied: packaging>=20.0 in c:\\users\\makio\\desktop\\code\\.venv\\lib\\site-packages (from matplotlib) (24.2)\n",
            "Collecting pillow>=8 (from matplotlib)\n",
            "  Using cached pillow-11.1.0-cp313-cp313-win_amd64.whl.metadata (9.3 kB)\n",
            "Collecting pyparsing>=2.3.1 (from matplotlib)\n",
            "  Using cached pyparsing-3.2.1-py3-none-any.whl.metadata (5.0 kB)\n",
            "Requirement already satisfied: six>=1.5 in c:\\users\\makio\\desktop\\code\\.venv\\lib\\site-packages (from python-dateutil>=2.8.2->pandas) (1.17.0)\n",
            "Requirement already satisfied: colorama in c:\\users\\makio\\desktop\\code\\.venv\\lib\\site-packages (from click->nltk) (0.4.6)\n",
            "Using cached matplotlib-3.10.0-cp313-cp313-win_amd64.whl (8.0 MB)\n",
            "Using cached seaborn-0.13.2-py3-none-any.whl (294 kB)\n",
            "Using cached contourpy-1.3.1-cp313-cp313-win_amd64.whl (220 kB)\n",
            "Using cached cycler-0.12.1-py3-none-any.whl (8.3 kB)\n",
            "Using cached fonttools-4.56.0-cp313-cp313-win_amd64.whl (2.2 MB)\n",
            "Using cached kiwisolver-1.4.8-cp313-cp313-win_amd64.whl (71 kB)\n",
            "Using cached pillow-11.1.0-cp313-cp313-win_amd64.whl (2.6 MB)\n",
            "Using cached pyparsing-3.2.1-py3-none-any.whl (107 kB)\n",
            "Installing collected packages: pyparsing, pillow, kiwisolver, fonttools, cycler, contourpy, matplotlib, seaborn\n",
            "Successfully installed contourpy-1.3.1 cycler-0.12.1 fonttools-4.56.0 kiwisolver-1.4.8 matplotlib-3.10.0 pillow-11.1.0 pyparsing-3.2.1 seaborn-0.13.2\n",
            "Note: you may need to restart the kernel to use updated packages.\n"
          ]
        }
      ],
      "source": [
        "%pip install nltk scikit-learn pandas matplotlib seaborn"
      ]
    },
    {
      "cell_type": "code",
      "execution_count": null,
      "metadata": {
        "id": "BHA4dWegC7aY"
      },
      "outputs": [],
      "source": [
        "import numpy as np\n",
        "import pandas as pd\n",
        "import nltk\n",
        "import re\n",
        "from sklearn.datasets import fetch_20newsgroups\n"
      ]
    },
    {
      "cell_type": "markdown",
      "metadata": {
        "id": "Xx7gkrJrJBcZ"
      },
      "source": [
        "### Загрузка датасета"
      ]
    },
    {
      "cell_type": "code",
      "execution_count": 21,
      "metadata": {
        "id": "JsaQyVV7C9yQ"
      },
      "outputs": [],
      "source": [
        "file_path = \"Tweets.csv\"\n",
        "df = pd.read_csv(file_path)\n",
        "\n",
        "# Отображаем первые строки\n",
        "df.head()\n",
        "\n",
        "# Преобразуем метки тональности в числовой формат\n",
        "sentiment_mapping = {'negative': 0, 'neutral': 1, 'positive': 2}\n",
        "df['label'] = df['sentiment'].map(sentiment_mapping)\n",
        "\n",
        "# Получаем тексты и метки\n",
        "# Убираем NaN, заменяя их пустыми строками\n",
        "df['text'] = df['text'].fillna(\"\")\n",
        "# Преобразуем тексты в список\n",
        "texts = df['text'].tolist()\n",
        "labels = df['label'].tolist()"
      ]
    },
    {
      "cell_type": "markdown",
      "metadata": {
        "id": "bF_XWnjpJWa7"
      },
      "source": [
        "### Исследование данных"
      ]
    },
    {
      "cell_type": "code",
      "execution_count": 5,
      "metadata": {
        "colab": {
          "base_uri": "https://localhost:8080/"
        },
        "id": "E7h9ZbPNJchT",
        "outputId": "30122976-f275-4637-9fec-32553138cf24"
      },
      "outputs": [
        {
          "name": "stdout",
          "output_type": "stream",
          "text": [
            "Количество документов: 27481\n",
            "Количество категорий: 3\n",
            "Категории:\n",
            "['negative', 'neutral', 'positive']\n"
          ]
        }
      ],
      "source": [
        "# Определяем категории на основе уникальных значений меток\n",
        "categories = list(sentiment_mapping.keys())\n",
        "\n",
        "# Вывод информации\n",
        "print(\"Количество документов:\", len(texts))\n",
        "print(\"Количество категорий:\", len(categories))\n",
        "print(\"Категории:\")\n",
        "print(categories)\n"
      ]
    },
    {
      "cell_type": "code",
      "execution_count": 6,
      "metadata": {
        "colab": {
          "base_uri": "https://localhost:8080/"
        },
        "id": "0dRsh_EbJfUH",
        "outputId": "ce0f606f-f02b-417f-b0cc-028db5db6734"
      },
      "outputs": [
        {
          "name": "stdout",
          "output_type": "stream",
          "text": [
            "Пример текста:\n",
            " I`d have responded, if I were going\n",
            "\n",
            "Категория: neutral\n"
          ]
        }
      ],
      "source": [
        "# Выводим пример текста и его категории\n",
        "print(\"Пример текста:\")\n",
        "print(texts[0])\n",
        "print(\"\\nКатегория:\", categories[labels[0]])\n"
      ]
    },
    {
      "cell_type": "markdown",
      "metadata": {
        "id": "798Mb1WEJjMu"
      },
      "source": [
        "## 2. **Предобработка текста**"
      ]
    },
    {
      "cell_type": "markdown",
      "metadata": {
        "id": "LCze3AgyJ2OF"
      },
      "source": [
        "### 2.1. **Токенизация по предложениям**"
      ]
    },
    {
      "cell_type": "code",
      "execution_count": 8,
      "metadata": {
        "colab": {
          "base_uri": "https://localhost:8080/"
        },
        "id": "yhHWUiI8C-o8",
        "outputId": "ecb5292b-d1be-4cd7-d50a-8d8f5dc1f0fa"
      },
      "outputs": [
        {
          "name": "stdout",
          "output_type": "stream",
          "text": [
            "Количество предложений: 1\n",
            "Предложения:\n",
            "1:  I`d have responded, if I were going\n"
          ]
        },
        {
          "name": "stderr",
          "output_type": "stream",
          "text": [
            "[nltk_data] Downloading package punkt to\n",
            "[nltk_data]     C:\\Users\\makio\\AppData\\Roaming\\nltk_data...\n",
            "[nltk_data]   Package punkt is already up-to-date!\n"
          ]
        }
      ],
      "source": [
        "import nltk\n",
        "from nltk.tokenize import sent_tokenize\n",
        "\n",
        "# Загружаем необходимые данные для токенизации\n",
        "nltk.download('punkt')\n",
        "\n",
        "# Берем первый текст из списка\n",
        "text = texts[0]\n",
        "\n",
        "# Токенизируем на предложения\n",
        "sentences = sent_tokenize(text)\n",
        "\n",
        "# Выводим количество предложений и сами предложения\n",
        "print(\"Количество предложений:\", len(sentences))\n",
        "print(\"Предложения:\")\n",
        "for idx, sentence in enumerate(sentences):\n",
        "    print(f\"{idx+1}: {sentence}\")\n"
      ]
    },
    {
      "cell_type": "markdown",
      "metadata": {
        "id": "8aiDIAeIKtU7"
      },
      "source": [
        "### 2.2. **Токенизация по словам**"
      ]
    },
    {
      "cell_type": "code",
      "execution_count": 9,
      "metadata": {
        "colab": {
          "base_uri": "https://localhost:8080/"
        },
        "id": "p8Zr8DW2C_cS",
        "outputId": "9770e1b4-4568-45d8-cf6a-e19c9cc2a590"
      },
      "outputs": [
        {
          "name": "stdout",
          "output_type": "stream",
          "text": [
            "Количество слов: 10\n",
            "Слова:\n",
            "['I', '`', 'd', 'have', 'responded', ',', 'if', 'I', 'were', 'going']\n"
          ]
        }
      ],
      "source": [
        "from nltk.tokenize import word_tokenize\n",
        "\n",
        "words = word_tokenize(text)\n",
        "print(\"Количество слов:\", len(words))\n",
        "print(\"Слова:\")\n",
        "print(words)"
      ]
    },
    {
      "cell_type": "markdown",
      "metadata": {
        "id": "tvvcDtR1LWJd"
      },
      "source": [
        "### 2.3. **Лемматизация и стемминг текста**"
      ]
    },
    {
      "cell_type": "code",
      "execution_count": 11,
      "metadata": {
        "colab": {
          "base_uri": "https://localhost:8080/"
        },
        "id": "WbOuGlRTLKzK",
        "outputId": "65115d65-d70a-464e-9ee7-91200e588c00"
      },
      "outputs": [
        {
          "name": "stdout",
          "output_type": "stream",
          "text": [
            "Стеммы:\n",
            "['i', '`', 'd', 'have', 'respond', ',', 'if', 'i', 'were', 'go']\n"
          ]
        }
      ],
      "source": [
        "from nltk.stem import PorterStemmer\n",
        "\n",
        "stemmer = PorterStemmer()\n",
        "stems = [stemmer.stem(word) for word in words]\n",
        "print(\"Стеммы:\")\n",
        "print(stems)"
      ]
    },
    {
      "cell_type": "code",
      "execution_count": 12,
      "metadata": {
        "colab": {
          "base_uri": "https://localhost:8080/"
        },
        "id": "ETYbW-uXDAQD",
        "outputId": "29aa9061-b6bf-469d-e7ce-7fedaa70071d"
      },
      "outputs": [
        {
          "name": "stderr",
          "output_type": "stream",
          "text": [
            "[nltk_data] Downloading package wordnet to\n",
            "[nltk_data]     C:\\Users\\makio\\AppData\\Roaming\\nltk_data...\n",
            "[nltk_data]   Package wordnet is already up-to-date!\n",
            "[nltk_data] Downloading package omw-1.4 to\n",
            "[nltk_data]     C:\\Users\\makio\\AppData\\Roaming\\nltk_data...\n",
            "[nltk_data]   Package omw-1.4 is already up-to-date!\n"
          ]
        },
        {
          "name": "stdout",
          "output_type": "stream",
          "text": [
            "Леммы:\n",
            "['I', '`', 'd', 'have', 'responded', ',', 'if', 'I', 'were', 'going']\n"
          ]
        }
      ],
      "source": [
        "from nltk.stem import WordNetLemmatizer\n",
        "nltk.download('wordnet')\n",
        "nltk.download('omw-1.4')\n",
        "\n",
        "lemmatizer = WordNetLemmatizer()\n",
        "lemmas = [lemmatizer.lemmatize(word) for word in words]\n",
        "print(\"Леммы:\")\n",
        "print(lemmas)"
      ]
    },
    {
      "cell_type": "markdown",
      "metadata": {
        "id": "sBQpb2rLL9YR"
      },
      "source": [
        "### 2.4. **Стоп-слова**"
      ]
    },
    {
      "cell_type": "code",
      "execution_count": 18,
      "metadata": {
        "colab": {
          "base_uri": "https://localhost:8080/"
        },
        "id": "J9Yh4gOPDBHg",
        "outputId": "95568075-d1dc-4d39-8551-8fd15a33e412"
      },
      "outputs": [
        {
          "name": "stdout",
          "output_type": "stream",
          "text": [
            "После удаления стоп-слов:\n",
            "['`', 'responded', ',', 'going']\n"
          ]
        },
        {
          "name": "stderr",
          "output_type": "stream",
          "text": [
            "[nltk_data] Downloading package stopwords to\n",
            "[nltk_data]     C:\\Users\\makio\\AppData\\Roaming\\nltk_data...\n",
            "[nltk_data]   Package stopwords is already up-to-date!\n"
          ]
        }
      ],
      "source": [
        "from nltk.corpus import stopwords\n",
        "nltk.download('stopwords')\n",
        "\n",
        "stop_words = set(stopwords.words('english'))\n",
        "filtered_words = [word for word in words if word.lower() not in stop_words]\n",
        "print(\"После удаления стоп-слов:\")\n",
        "print(filtered_words)"
      ]
    },
    {
      "cell_type": "markdown",
      "metadata": {
        "id": "n-agIZCwMij-"
      },
      "source": [
        "### 2.5. **Регулярные выражения**"
      ]
    },
    {
      "cell_type": "code",
      "execution_count": 14,
      "metadata": {
        "colab": {
          "base_uri": "https://localhost:8080/"
        },
        "id": "UuuMjCBSDCJb",
        "outputId": "29136cfe-25b9-4bc0-8915-428bc861913d"
      },
      "outputs": [
        {
          "name": "stdout",
          "output_type": "stream",
          "text": [
            "Очищенный текст:\n",
            " Id have responded if I were going\n"
          ]
        }
      ],
      "source": [
        "# Удаление всех символов, кроме букв и пробелов\n",
        "clean_text = re.sub(r'[^a-zA-Z\\s]', '', text)\n",
        "print(\"Очищенный текст:\")\n",
        "print(clean_text)"
      ]
    },
    {
      "cell_type": "markdown",
      "metadata": {
        "id": "ihH11Z7POVur"
      },
      "source": [
        "### 3. **TF-IDF**"
      ]
    },
    {
      "cell_type": "code",
      "execution_count": 22,
      "metadata": {
        "colab": {
          "base_uri": "https://localhost:8080/"
        },
        "id": "BVZ7GdthDEA4",
        "outputId": "3e3e0f96-4f3e-46ab-8236-bb6cc91fe0f1"
      },
      "outputs": [
        {
          "name": "stdout",
          "output_type": "stream",
          "text": [
            "Размерность матрицы TF-IDF: (27481, 26439)\n"
          ]
        }
      ],
      "source": [
        "# Реализация\n",
        "from sklearn.feature_extraction.text import TfidfVectorizer\n",
        "\n",
        "tfidf_vectorizer = TfidfVectorizer()\n",
        "X_tfidf = tfidf_vectorizer.fit_transform(texts)\n",
        "print(\"Размерность матрицы TF-IDF:\", X_tfidf.shape)"
      ]
    },
    {
      "cell_type": "markdown",
      "metadata": {
        "id": "d-vKDuGoR0V5"
      },
      "source": [
        "### 4.1. **Построение модели классификации**\n",
        "\n",
        "**Классификация текстов** — это задача присвоения текстовым документам одной или нескольких меток классов из заданного набора категорий. Примеры приложений включают спам-фильтры, анализ тональности, тематическую классификацию и многое другое.\n",
        "\n",
        "Существует множество алгоритмов, которые могут быть использованы для классификации текстов.\n",
        "\n",
        "Некоторые из современных алгоритмов:\n",
        "\n",
        "- **Наивный байесовский классификатор** - основывается на теореме Байеса и предполагает, что признаки (в нашем случае слова) независимы друг от друга.\n",
        "- **Логистическая регрессия** - используется для моделирования вероятности принадлежности объекта к определенному классу.\n",
        "- **Метод опорных векторов (SVM)** - SVM ищет гиперплоскость, которая максимизирует отступ между классами в пространстве признаков."
      ]
    },
    {
      "cell_type": "code",
      "execution_count": null,
      "metadata": {
        "id": "sU4zNP48E-VW"
      },
      "outputs": [
        {
          "name": "stdout",
          "output_type": "stream",
          "text": [
            "Accuracy (Naive Bayes): 0.6128797525923231\n",
            "Classification Report (Naive Bayes):\n",
            "              precision    recall  f1-score   support\n",
            "\n",
            "    negative       0.82      0.34      0.48      1562\n",
            "     neutral       0.52      0.87      0.65      2230\n",
            "    positive       0.79      0.52      0.63      1705\n",
            "\n",
            "    accuracy                           0.61      5497\n",
            "   macro avg       0.71      0.58      0.59      5497\n",
            "weighted avg       0.69      0.61      0.60      5497\n",
            "\n",
            "Optimal Thresholds (Naive Bayes): {0: np.float64(0.2706765089027482), 1: np.float64(0.4346928655393745), 2: np.float64(0.32536051821111606)}\n"
          ]
        }
      ],
      "source": [
        "from sklearn.model_selection import train_test_split\n",
        "from sklearn.naive_bayes import MultinomialNB\n",
        "from sklearn.metrics import accuracy_score, classification_report, roc_curve, confusion_matrix\n",
        "from sklearn.preprocessing import label_binarize\n",
        "import matplotlib.pyplot as plt\n",
        "import seaborn as sns\n",
        "\n",
        "\n",
        "# Данные\n",
        "X = X_tfidf\n",
        "y = labels\n",
        "\n",
        "# Разделяем на обучающую и тестовую выборки\n",
        "X_train, X_test, y_train, y_test = train_test_split(X, y, test_size=0.2, random_state=42)\n",
        "\n",
        "# Создаем и обучаем модель Naive Bayes\n",
        "nb_classifier = MultinomialNB()\n",
        "nb_classifier.fit(X_train, y_train)\n",
        "\n",
        "# Предсказание классов\n",
        "y_pred = nb_classifier.predict(X_test)\n",
        "\n",
        "# Оценка качества модели\n",
        "accuracy = accuracy_score(y_test, y_pred)\n",
        "print(\"Accuracy (Naive Bayes):\", accuracy)\n",
        "print(\"Classification Report (Naive Bayes):\")\n",
        "print(classification_report(y_test, y_pred, target_names=['negative', 'neutral', 'positive']))\n",
        "\n",
        "y_test_bin = label_binarize(y_test, classes=[0, 1, 2])\n",
        "y_pred_prob = nb_classifier.predict_proba(X_test)\n",
        "\n",
        "fpr = {}\n",
        "tpr = {}\n",
        "optimal_thresholds = {}\n",
        "\n",
        "for i in range(3):  # У нас три класса\n",
        "    fpr[i], tpr[i], thresholds = roc_curve(y_test_bin[:, i], y_pred_prob[:, i])\n",
        "    optimal_thresholds[i] = thresholds[np.argmax(tpr[i] - fpr[i])]\n",
        "\n",
        "# Вывод оптимальных порогов\n",
        "print(\"Optimal Thresholds (Naive Bayes):\", optimal_thresholds)\n"
      ]
    },
    {
      "cell_type": "code",
      "execution_count": 29,
      "metadata": {},
      "outputs": [
        {
          "data": {
            "image/png": "[encoded data removed]",
            "text/plain": [
              "<Figure size 800x600 with 2 Axes>"
            ]
          },
          "metadata": {},
          "output_type": "display_data"
        }
      ],
      "source": [
        "cm = confusion_matrix(y_test, y_pred)\n",
        "plt.figure(figsize=(8, 6))\n",
        "sns.heatmap(cm, annot=True, fmt='d', cmap='Blues', xticklabels=['negative', 'neutral', 'positive'], yticklabels=['negative', 'neutral', 'positive'])\n",
        "plt.xlabel('Предсказанный класс')\n",
        "plt.ylabel('Истинный класс')\n",
        "plt.title('Матрица ошибок (Naive Bayes)')\n",
        "plt.show()"
      ]
    },
    {
      "cell_type": "code",
      "execution_count": 31,
      "metadata": {},
      "outputs": [
        {
          "name": "stderr",
          "output_type": "stream",
          "text": [
            "c:\\Users\\makio\\Desktop\\Code\\.venv\\Lib\\site-packages\\sklearn\\linear_model\\_logistic.py:1247: FutureWarning: 'multi_class' was deprecated in version 1.5 and will be removed in 1.7. From then on, it will always use 'multinomial'. Leave it to its default value to avoid this warning.\n",
            "  warnings.warn(\n"
          ]
        },
        {
          "name": "stdout",
          "output_type": "stream",
          "text": [
            "Accuracy (Logistic Regression): 0.6978351828269965\n",
            "Classification Report (Logistic Regression):\n",
            "              precision    recall  f1-score   support\n",
            "\n",
            "    negative       0.74      0.59      0.66      1562\n",
            "     neutral       0.62      0.77      0.69      2230\n",
            "    positive       0.80      0.69      0.74      1705\n",
            "\n",
            "    accuracy                           0.70      5497\n",
            "   macro avg       0.72      0.69      0.70      5497\n",
            "weighted avg       0.71      0.70      0.70      5497\n",
            "\n"
          ]
        }
      ],
      "source": [
        "from sklearn.linear_model import LogisticRegression\n",
        "\n",
        "lr_classifier = LogisticRegression(max_iter=1000, multi_class='multinomial', solver='lbfgs')\n",
        "lr_classifier.fit(X_train, y_train)\n",
        "\n",
        "y_pred_prob_lr = lr_classifier.predict_proba(X_test)\n",
        "\n",
        "y_pred_lr = np.argmax(y_pred_prob_lr, axis=1)\n",
        "\n",
        "accuracy_lr = accuracy_score(y_test, y_pred_lr)\n",
        "print(\"Accuracy (Logistic Regression):\", accuracy_lr)\n",
        "print(\"Classification Report (Logistic Regression):\")\n",
        "print(classification_report(y_test, y_pred_lr, target_names=['negative', 'neutral', 'positive']))\n"
      ]
    },
    {
      "cell_type": "code",
      "execution_count": null,
      "metadata": {},
      "outputs": [
        {
          "name": "stdout",
          "output_type": "stream",
          "text": [
            "Accuracy (SVM): 0.6785519374204111\n",
            "Classification Report (SVM):\n",
            "              precision    recall  f1-score   support\n",
            "\n",
            "    negative       0.69      0.62      0.65      1562\n",
            "     neutral       0.62      0.70      0.66      2230\n",
            "    positive       0.75      0.71      0.73      1705\n",
            "\n",
            "    accuracy                           0.68      5497\n",
            "   macro avg       0.69      0.67      0.68      5497\n",
            "weighted avg       0.68      0.68      0.68      5497\n",
            "\n"
          ]
        }
      ],
      "source": [
        "from sklearn.svm import LinearSVC\n",
        "\n",
        "svm_classifier = LinearSVC(max_iter=10000)\n",
        "svm_classifier.fit(X_train, y_train)\n",
        "\n",
        "y_pred_prob_svm = svm_classifier.decision_function(X_test)\n",
        "\n",
        "y_pred_svm = np.argmax(y_pred_prob_svm, axis=1)\n",
        "\n",
        "accuracy_svm = accuracy_score(y_test, y_pred_svm)\n",
        "print(\"Accuracy (SVM):\", accuracy_svm)\n",
        "print(\"Classification Report (SVM):\")\n",
        "print(classification_report(y_test, y_pred_svm, target_names=['negative', 'neutral', 'positive']))\n"
      ]
    },
    {
      "cell_type": "markdown",
      "metadata": {
        "id": "n5ZWTOerS7-P"
      },
      "source": [
        "### 4.2. **Выводы**"
      ]
    },
    {
      "cell_type": "code",
      "execution_count": 32,
      "metadata": {
        "colab": {
          "base_uri": "https://localhost:8080/"
        },
        "id": "_99DC_NTFDc_",
        "outputId": "76160e26-57d8-4740-af73-f4c963372c70"
      },
      "outputs": [
        {
          "name": "stdout",
          "output_type": "stream",
          "text": [
            "Accuracy (Naive Bayes): 0.6128797525923231\n",
            "Accuracy (Logistic Regression): 0.6978351828269965\n",
            "Accuracy (SVM): 0.6785519374204111\n"
          ]
        }
      ],
      "source": [
        "print(\"Accuracy (Naive Bayes):\", accuracy)\n",
        "print(\"Accuracy (Logistic Regression):\", accuracy_lr)\n",
        "print(\"Accuracy (SVM):\", accuracy_svm)"
      ]
    },
    {
      "cell_type": "code",
      "execution_count": 34,
      "metadata": {},
      "outputs": [
        {
          "name": "stdout",
          "output_type": "stream",
          "text": [
            "I love this product! It's amazing and works perfectly.\n",
            "Предсказанная категория: positive \n",
            "\n",
            "This is the worst purchase I have ever made. Completely useless.\n",
            "Предсказанная категория: negative \n",
            "\n",
            "The package arrived on time. Nothing special, just as expected.\n",
            "Предсказанная категория: neutral\n"
          ]
        }
      ],
      "source": [
        "# Тестовые твиты\n",
        "test_text = \"I love this product! It's amazing and works perfectly.\"  # Позитивный\n",
        "test_text2 = \"This is the worst purchase I have ever made. Completely useless.\"  # Негативный\n",
        "test_text3 = \"The package arrived on time. Nothing special, just as expected.\"  # Нейтральный\n",
        "\n",
        "# Преобразуем в TF-IDF\n",
        "test_text_tfidf = tfidf_vectorizer.transform([test_text])\n",
        "test_text_tfidf2 = tfidf_vectorizer.transform([test_text2])\n",
        "test_text_tfidf3 = tfidf_vectorizer.transform([test_text3])\n",
        "\n",
        "# Предсказание категорий\n",
        "predicted_category = nb_classifier.predict(test_text_tfidf)\n",
        "predicted_category2 = nb_classifier.predict(test_text_tfidf2)\n",
        "predicted_category3 = nb_classifier.predict(test_text_tfidf3)\n",
        "\n",
        "# Отображаем результаты\n",
        "categories = ['negative', 'neutral', 'positive']\n",
        "\n",
        "print(test_text)\n",
        "print(\"Предсказанная категория:\", categories[predicted_category[0]], \"\\n\")\n",
        "\n",
        "print(test_text2)\n",
        "print(\"Предсказанная категория:\", categories[predicted_category2[0]], \"\\n\")\n",
        "\n",
        "print(test_text3)\n",
        "print(\"Предсказанная категория:\", categories[predicted_category3[0]])\n"
      ]
    },
    {
      "cell_type": "markdown",
      "metadata": {},
      "source": [
        "ВЫВОД: \n",
        "Модель успешно справилась с задачей классификации твитов по тональности. Достигнутые метрики показывают высокий уровень точности и сбалансированность предсказаний. Анализ матрицы ошибок указывает на то, что модель наиболее уверенно определяет отрицательные и положительные классы, в то время как нейтральные твиты иногда ошибочно классифицируются"
      ]
    }
  ],
  "metadata": {
    "colab": {
      "provenance": []
    },
    "kernelspec": {
      "display_name": ".venv",
      "language": "python",
      "name": "python3"
    },
    "language_info": {
      "codemirror_mode": {
        "name": "ipython",
        "version": 3
      },
      "file_extension": ".py",
      "mimetype": "text/x-python",
      "name": "python",
      "nbconvert_exporter": "python",
      "pygments_lexer": "ipython3",
      "version": "3.13.1"
    }
  },
  "nbformat": 4,
  "nbformat_minor": 0
}
